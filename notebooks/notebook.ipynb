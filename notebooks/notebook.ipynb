{
 "cells": [
  {
   "cell_type": "markdown",
   "id": "51b9af53",
   "metadata": {},
   "source": [
    "# **Phishing Detection by Analysis on Raw URLs using CNN**\n",
    "\n",
    "**Step 1: Download Dataset**  \n",
    "\n",
    "- Download and move the dataset to the data directory \n",
    "- And then load the dataset using pandas\n",
    "\n",
    "**Step 2: Preprocessing the Dataset**\n",
    "- Remove any duplicates\n",
    "- Encode URLs as character sequences\n",
    "\n",
    "**Step 3: Feature Engineering**\n",
    "- Tokenize the URL at character level\n",
    "- Pad/truncate to a fixed length (say 200 chars)\n",
    "- One-hot or integer encode sequences\n",
    "\n",
    "**Step 4: CNN Model training**\n",
    "- Create necessary files - model.py, train.py, evaluate.py\n",
    "- Train the CNN model with the preprocessed Dataset\n",
    "- Evaluate the model\n",
    "\n",
    "**Step 5: Experiment Tracking**\n",
    "```\n",
    "pip install mlflow  \n",
    "```\n",
    "- Model parameters\n",
    "- Accuracy\n",
    "- Loss curves\n",
    "\n",
    "**Step 6: Deployment**\n",
    "```\n",
    "pip install fastapi uvicorn\n",
    "```\n",
    "which will create app.py  \n",
    "Then:\n",
    "```\n",
    "uvicorn api.app:app --reload\n",
    "```\n",
    "\n",
    "**Step 7: Demo UI**\n",
    "```\n",
    "pip install gradio\n",
    "```\n",
    "or\n",
    "```\n",
    "pip install streamlit\n",
    "```\n",
    "\n",
    "**Step 8: Create Docker and CI/CD**\n",
    "- Add Docker\n",
    "- Add CI/CD: Github Actions\n",
    "- Host demo on Hugging Face Spaces or Render"
   ]
  },
  {
   "cell_type": "code",
   "execution_count": 2,
   "id": "ac651aad",
   "metadata": {},
   "outputs": [],
   "source": [
    "import pandas as pd\n",
    "import numpy as np"
   ]
  },
  {
   "cell_type": "code",
   "execution_count": 18,
   "id": "6f707e79",
   "metadata": {},
   "outputs": [],
   "source": [
    "df = pd.read_csv('../data/Phishing_URL_Dataset.csv')"
   ]
  },
  {
   "cell_type": "code",
   "execution_count": 19,
   "id": "895dfbe4",
   "metadata": {},
   "outputs": [
    {
     "data": {
      "text/html": [
       "<div>\n",
       "<style scoped>\n",
       "    .dataframe tbody tr th:only-of-type {\n",
       "        vertical-align: middle;\n",
       "    }\n",
       "\n",
       "    .dataframe tbody tr th {\n",
       "        vertical-align: top;\n",
       "    }\n",
       "\n",
       "    .dataframe thead th {\n",
       "        text-align: right;\n",
       "    }\n",
       "</style>\n",
       "<table border=\"1\" class=\"dataframe\">\n",
       "  <thead>\n",
       "    <tr style=\"text-align: right;\">\n",
       "      <th></th>\n",
       "      <th>FILENAME</th>\n",
       "      <th>URL</th>\n",
       "      <th>URLLength</th>\n",
       "      <th>Domain</th>\n",
       "      <th>DomainLength</th>\n",
       "      <th>IsDomainIP</th>\n",
       "      <th>TLD</th>\n",
       "      <th>URLSimilarityIndex</th>\n",
       "      <th>CharContinuationRate</th>\n",
       "      <th>TLDLegitimateProb</th>\n",
       "      <th>...</th>\n",
       "      <th>Pay</th>\n",
       "      <th>Crypto</th>\n",
       "      <th>HasCopyrightInfo</th>\n",
       "      <th>NoOfImage</th>\n",
       "      <th>NoOfCSS</th>\n",
       "      <th>NoOfJS</th>\n",
       "      <th>NoOfSelfRef</th>\n",
       "      <th>NoOfEmptyRef</th>\n",
       "      <th>NoOfExternalRef</th>\n",
       "      <th>label</th>\n",
       "    </tr>\n",
       "  </thead>\n",
       "  <tbody>\n",
       "    <tr>\n",
       "      <th>0</th>\n",
       "      <td>521848.txt</td>\n",
       "      <td>https://www.southbankmosaics.com</td>\n",
       "      <td>31</td>\n",
       "      <td>www.southbankmosaics.com</td>\n",
       "      <td>24</td>\n",
       "      <td>0</td>\n",
       "      <td>com</td>\n",
       "      <td>100.0</td>\n",
       "      <td>1.000000</td>\n",
       "      <td>0.522907</td>\n",
       "      <td>...</td>\n",
       "      <td>0</td>\n",
       "      <td>0</td>\n",
       "      <td>1</td>\n",
       "      <td>34</td>\n",
       "      <td>20</td>\n",
       "      <td>28</td>\n",
       "      <td>119</td>\n",
       "      <td>0</td>\n",
       "      <td>124</td>\n",
       "      <td>1</td>\n",
       "    </tr>\n",
       "    <tr>\n",
       "      <th>1</th>\n",
       "      <td>31372.txt</td>\n",
       "      <td>https://www.uni-mainz.de</td>\n",
       "      <td>23</td>\n",
       "      <td>www.uni-mainz.de</td>\n",
       "      <td>16</td>\n",
       "      <td>0</td>\n",
       "      <td>de</td>\n",
       "      <td>100.0</td>\n",
       "      <td>0.666667</td>\n",
       "      <td>0.032650</td>\n",
       "      <td>...</td>\n",
       "      <td>0</td>\n",
       "      <td>0</td>\n",
       "      <td>1</td>\n",
       "      <td>50</td>\n",
       "      <td>9</td>\n",
       "      <td>8</td>\n",
       "      <td>39</td>\n",
       "      <td>0</td>\n",
       "      <td>217</td>\n",
       "      <td>1</td>\n",
       "    </tr>\n",
       "    <tr>\n",
       "      <th>2</th>\n",
       "      <td>597387.txt</td>\n",
       "      <td>https://www.voicefmradio.co.uk</td>\n",
       "      <td>29</td>\n",
       "      <td>www.voicefmradio.co.uk</td>\n",
       "      <td>22</td>\n",
       "      <td>0</td>\n",
       "      <td>uk</td>\n",
       "      <td>100.0</td>\n",
       "      <td>0.866667</td>\n",
       "      <td>0.028555</td>\n",
       "      <td>...</td>\n",
       "      <td>0</td>\n",
       "      <td>0</td>\n",
       "      <td>1</td>\n",
       "      <td>10</td>\n",
       "      <td>2</td>\n",
       "      <td>7</td>\n",
       "      <td>42</td>\n",
       "      <td>2</td>\n",
       "      <td>5</td>\n",
       "      <td>1</td>\n",
       "    </tr>\n",
       "    <tr>\n",
       "      <th>3</th>\n",
       "      <td>554095.txt</td>\n",
       "      <td>https://www.sfnmjournal.com</td>\n",
       "      <td>26</td>\n",
       "      <td>www.sfnmjournal.com</td>\n",
       "      <td>19</td>\n",
       "      <td>0</td>\n",
       "      <td>com</td>\n",
       "      <td>100.0</td>\n",
       "      <td>1.000000</td>\n",
       "      <td>0.522907</td>\n",
       "      <td>...</td>\n",
       "      <td>1</td>\n",
       "      <td>1</td>\n",
       "      <td>1</td>\n",
       "      <td>3</td>\n",
       "      <td>27</td>\n",
       "      <td>15</td>\n",
       "      <td>22</td>\n",
       "      <td>1</td>\n",
       "      <td>31</td>\n",
       "      <td>1</td>\n",
       "    </tr>\n",
       "    <tr>\n",
       "      <th>4</th>\n",
       "      <td>151578.txt</td>\n",
       "      <td>https://www.rewildingargentina.org</td>\n",
       "      <td>33</td>\n",
       "      <td>www.rewildingargentina.org</td>\n",
       "      <td>26</td>\n",
       "      <td>0</td>\n",
       "      <td>org</td>\n",
       "      <td>100.0</td>\n",
       "      <td>1.000000</td>\n",
       "      <td>0.079963</td>\n",
       "      <td>...</td>\n",
       "      <td>1</td>\n",
       "      <td>0</td>\n",
       "      <td>1</td>\n",
       "      <td>244</td>\n",
       "      <td>15</td>\n",
       "      <td>34</td>\n",
       "      <td>72</td>\n",
       "      <td>1</td>\n",
       "      <td>85</td>\n",
       "      <td>1</td>\n",
       "    </tr>\n",
       "  </tbody>\n",
       "</table>\n",
       "<p>5 rows × 56 columns</p>\n",
       "</div>"
      ],
      "text/plain": [
       "     FILENAME                                 URL  URLLength  \\\n",
       "0  521848.txt    https://www.southbankmosaics.com         31   \n",
       "1   31372.txt            https://www.uni-mainz.de         23   \n",
       "2  597387.txt      https://www.voicefmradio.co.uk         29   \n",
       "3  554095.txt         https://www.sfnmjournal.com         26   \n",
       "4  151578.txt  https://www.rewildingargentina.org         33   \n",
       "\n",
       "                       Domain  DomainLength  IsDomainIP  TLD  \\\n",
       "0    www.southbankmosaics.com            24           0  com   \n",
       "1            www.uni-mainz.de            16           0   de   \n",
       "2      www.voicefmradio.co.uk            22           0   uk   \n",
       "3         www.sfnmjournal.com            19           0  com   \n",
       "4  www.rewildingargentina.org            26           0  org   \n",
       "\n",
       "   URLSimilarityIndex  CharContinuationRate  TLDLegitimateProb  ...  Pay  \\\n",
       "0               100.0              1.000000           0.522907  ...    0   \n",
       "1               100.0              0.666667           0.032650  ...    0   \n",
       "2               100.0              0.866667           0.028555  ...    0   \n",
       "3               100.0              1.000000           0.522907  ...    1   \n",
       "4               100.0              1.000000           0.079963  ...    1   \n",
       "\n",
       "   Crypto  HasCopyrightInfo  NoOfImage  NoOfCSS  NoOfJS  NoOfSelfRef  \\\n",
       "0       0                 1         34       20      28          119   \n",
       "1       0                 1         50        9       8           39   \n",
       "2       0                 1         10        2       7           42   \n",
       "3       1                 1          3       27      15           22   \n",
       "4       0                 1        244       15      34           72   \n",
       "\n",
       "   NoOfEmptyRef  NoOfExternalRef  label  \n",
       "0             0              124      1  \n",
       "1             0              217      1  \n",
       "2             2                5      1  \n",
       "3             1               31      1  \n",
       "4             1               85      1  \n",
       "\n",
       "[5 rows x 56 columns]"
      ]
     },
     "execution_count": 19,
     "metadata": {},
     "output_type": "execute_result"
    }
   ],
   "source": [
    "df.head()"
   ]
  },
  {
   "cell_type": "code",
   "execution_count": 20,
   "id": "112205d2",
   "metadata": {},
   "outputs": [
    {
     "name": "stdout",
     "output_type": "stream",
     "text": [
      "1    134850\n",
      "0    100945\n",
      "Name: label, dtype: int64\n"
     ]
    }
   ],
   "source": [
    "print(df['label'].value_counts())"
   ]
  },
  {
   "cell_type": "code",
   "execution_count": 3,
   "id": "10aac165",
   "metadata": {},
   "outputs": [],
   "source": [
    "df = pd.read_excel('../data/data_bal - 20000.xlsx')"
   ]
  },
  {
   "cell_type": "code",
   "execution_count": 4,
   "id": "643f1d4e",
   "metadata": {},
   "outputs": [
    {
     "data": {
      "text/html": [
       "<div>\n",
       "<style scoped>\n",
       "    .dataframe tbody tr th:only-of-type {\n",
       "        vertical-align: middle;\n",
       "    }\n",
       "\n",
       "    .dataframe tbody tr th {\n",
       "        vertical-align: top;\n",
       "    }\n",
       "\n",
       "    .dataframe thead th {\n",
       "        text-align: right;\n",
       "    }\n",
       "</style>\n",
       "<table border=\"1\" class=\"dataframe\">\n",
       "  <thead>\n",
       "    <tr style=\"text-align: right;\">\n",
       "      <th></th>\n",
       "      <th>label</th>\n",
       "      <th>URL</th>\n",
       "    </tr>\n",
       "  </thead>\n",
       "  <tbody>\n",
       "    <tr>\n",
       "      <th>0</th>\n",
       "      <td>1</td>\n",
       "      <td>http://dbs.vote-friend.com/sg?ref=anything</td>\n",
       "    </tr>\n",
       "    <tr>\n",
       "      <th>1</th>\n",
       "      <td>0</td>\n",
       "      <td>https://www.reynoldstransfer.com/versa-lift-fo...</td>\n",
       "    </tr>\n",
       "    <tr>\n",
       "      <th>2</th>\n",
       "      <td>1</td>\n",
       "      <td>https://www.halisupportservice.com/Login.php</td>\n",
       "    </tr>\n",
       "    <tr>\n",
       "      <th>3</th>\n",
       "      <td>0</td>\n",
       "      <td>https://www.signets.com.br/wp-includes/wlwmani...</td>\n",
       "    </tr>\n",
       "    <tr>\n",
       "      <th>4</th>\n",
       "      <td>1</td>\n",
       "      <td>https://docs.google.com/document/d/e/2PACX-1vT...</td>\n",
       "    </tr>\n",
       "  </tbody>\n",
       "</table>\n",
       "</div>"
      ],
      "text/plain": [
       "   label                                                URL\n",
       "0      1         http://dbs.vote-friend.com/sg?ref=anything\n",
       "1      0  https://www.reynoldstransfer.com/versa-lift-fo...\n",
       "2      1       https://www.halisupportservice.com/Login.php\n",
       "3      0  https://www.signets.com.br/wp-includes/wlwmani...\n",
       "4      1  https://docs.google.com/document/d/e/2PACX-1vT..."
      ]
     },
     "execution_count": 4,
     "metadata": {},
     "output_type": "execute_result"
    }
   ],
   "source": [
    "df.head()"
   ]
  },
  {
   "cell_type": "code",
   "execution_count": 5,
   "id": "7b8a3b2b",
   "metadata": {},
   "outputs": [],
   "source": [
    "df.to_csv('data_bal-20000.csv')"
   ]
  },
  {
   "cell_type": "code",
   "execution_count": 6,
   "id": "365d2c1b",
   "metadata": {},
   "outputs": [],
   "source": [
    "df = pd.read_csv('../data/malicious_phish.csv')"
   ]
  },
  {
   "cell_type": "code",
   "execution_count": 7,
   "id": "9869c1f5",
   "metadata": {},
   "outputs": [
    {
     "data": {
      "text/html": [
       "<div>\n",
       "<style scoped>\n",
       "    .dataframe tbody tr th:only-of-type {\n",
       "        vertical-align: middle;\n",
       "    }\n",
       "\n",
       "    .dataframe tbody tr th {\n",
       "        vertical-align: top;\n",
       "    }\n",
       "\n",
       "    .dataframe thead th {\n",
       "        text-align: right;\n",
       "    }\n",
       "</style>\n",
       "<table border=\"1\" class=\"dataframe\">\n",
       "  <thead>\n",
       "    <tr style=\"text-align: right;\">\n",
       "      <th></th>\n",
       "      <th>URL</th>\n",
       "      <th>label</th>\n",
       "    </tr>\n",
       "  </thead>\n",
       "  <tbody>\n",
       "    <tr>\n",
       "      <th>0</th>\n",
       "      <td>br-icloud.com.br</td>\n",
       "      <td>phishing</td>\n",
       "    </tr>\n",
       "    <tr>\n",
       "      <th>1</th>\n",
       "      <td>mp3raid.com/music/krizz_kaliko.html</td>\n",
       "      <td>benign</td>\n",
       "    </tr>\n",
       "    <tr>\n",
       "      <th>2</th>\n",
       "      <td>bopsecrets.org/rexroth/cr/1.htm</td>\n",
       "      <td>benign</td>\n",
       "    </tr>\n",
       "    <tr>\n",
       "      <th>3</th>\n",
       "      <td>http://www.garage-pirenne.be/index.php?option=...</td>\n",
       "      <td>defacement</td>\n",
       "    </tr>\n",
       "    <tr>\n",
       "      <th>4</th>\n",
       "      <td>http://adventure-nicaragua.net/index.php?optio...</td>\n",
       "      <td>defacement</td>\n",
       "    </tr>\n",
       "  </tbody>\n",
       "</table>\n",
       "</div>"
      ],
      "text/plain": [
       "                                                 URL       label\n",
       "0                                   br-icloud.com.br    phishing\n",
       "1                mp3raid.com/music/krizz_kaliko.html      benign\n",
       "2                    bopsecrets.org/rexroth/cr/1.htm      benign\n",
       "3  http://www.garage-pirenne.be/index.php?option=...  defacement\n",
       "4  http://adventure-nicaragua.net/index.php?optio...  defacement"
      ]
     },
     "execution_count": 7,
     "metadata": {},
     "output_type": "execute_result"
    }
   ],
   "source": [
    "df.head()"
   ]
  },
  {
   "cell_type": "code",
   "execution_count": 10,
   "id": "f3e94d9b",
   "metadata": {},
   "outputs": [],
   "source": [
    "df['label'] = df['label'].replace({'defacement': 1, 'phishing': 1, 'benign': 0, 'malware': 1})"
   ]
  },
  {
   "cell_type": "code",
   "execution_count": 11,
   "id": "b538b4dd",
   "metadata": {},
   "outputs": [
    {
     "name": "stdout",
     "output_type": "stream",
     "text": [
      "0    428103\n",
      "1    223088\n",
      "Name: label, dtype: int64\n"
     ]
    }
   ],
   "source": [
    "print(df['label'].value_counts())"
   ]
  },
  {
   "cell_type": "code",
   "execution_count": 12,
   "id": "cfd20b12",
   "metadata": {},
   "outputs": [],
   "source": [
    "df.to_csv('../data/malicious_phish.csv')"
   ]
  },
  {
   "cell_type": "code",
   "execution_count": 13,
   "id": "18b62db0",
   "metadata": {},
   "outputs": [],
   "source": [
    "df = pd.read_csv('../data/phishing_site_urls.csv')"
   ]
  },
  {
   "cell_type": "code",
   "execution_count": 14,
   "id": "840ceb19",
   "metadata": {},
   "outputs": [
    {
     "data": {
      "text/html": [
       "<div>\n",
       "<style scoped>\n",
       "    .dataframe tbody tr th:only-of-type {\n",
       "        vertical-align: middle;\n",
       "    }\n",
       "\n",
       "    .dataframe tbody tr th {\n",
       "        vertical-align: top;\n",
       "    }\n",
       "\n",
       "    .dataframe thead th {\n",
       "        text-align: right;\n",
       "    }\n",
       "</style>\n",
       "<table border=\"1\" class=\"dataframe\">\n",
       "  <thead>\n",
       "    <tr style=\"text-align: right;\">\n",
       "      <th></th>\n",
       "      <th>URL</th>\n",
       "      <th>label</th>\n",
       "    </tr>\n",
       "  </thead>\n",
       "  <tbody>\n",
       "    <tr>\n",
       "      <th>0</th>\n",
       "      <td>nobell.it/70ffb52d079109dca5664cce6f317373782/...</td>\n",
       "      <td>bad</td>\n",
       "    </tr>\n",
       "    <tr>\n",
       "      <th>1</th>\n",
       "      <td>www.dghjdgf.com/paypal.co.uk/cycgi-bin/webscrc...</td>\n",
       "      <td>bad</td>\n",
       "    </tr>\n",
       "    <tr>\n",
       "      <th>2</th>\n",
       "      <td>serviciosbys.com/paypal.cgi.bin.get-into.herf....</td>\n",
       "      <td>bad</td>\n",
       "    </tr>\n",
       "    <tr>\n",
       "      <th>3</th>\n",
       "      <td>mail.printakid.com/www.online.americanexpress....</td>\n",
       "      <td>bad</td>\n",
       "    </tr>\n",
       "    <tr>\n",
       "      <th>4</th>\n",
       "      <td>thewhiskeydregs.com/wp-content/themes/widescre...</td>\n",
       "      <td>bad</td>\n",
       "    </tr>\n",
       "  </tbody>\n",
       "</table>\n",
       "</div>"
      ],
      "text/plain": [
       "                                                 URL label\n",
       "0  nobell.it/70ffb52d079109dca5664cce6f317373782/...   bad\n",
       "1  www.dghjdgf.com/paypal.co.uk/cycgi-bin/webscrc...   bad\n",
       "2  serviciosbys.com/paypal.cgi.bin.get-into.herf....   bad\n",
       "3  mail.printakid.com/www.online.americanexpress....   bad\n",
       "4  thewhiskeydregs.com/wp-content/themes/widescre...   bad"
      ]
     },
     "execution_count": 14,
     "metadata": {},
     "output_type": "execute_result"
    }
   ],
   "source": [
    "df.head()\n"
   ]
  },
  {
   "cell_type": "code",
   "execution_count": 15,
   "id": "026a0dd7",
   "metadata": {},
   "outputs": [],
   "source": [
    "df['label'] = df['label'].replace({'good': 0,'bad': 1})"
   ]
  },
  {
   "cell_type": "code",
   "execution_count": 16,
   "id": "e07d8ac7",
   "metadata": {},
   "outputs": [
    {
     "name": "stdout",
     "output_type": "stream",
     "text": [
      "0    392924\n",
      "1    156422\n",
      "Name: label, dtype: int64\n"
     ]
    }
   ],
   "source": [
    "print(df['label'].value_counts())"
   ]
  },
  {
   "cell_type": "code",
   "execution_count": 17,
   "id": "19b5c68b",
   "metadata": {},
   "outputs": [],
   "source": [
    "df.to_csv('../data/phishing_site_urls.csv', index=False)"
   ]
  },
  {
   "cell_type": "code",
   "execution_count": 5,
   "id": "f235c117",
   "metadata": {},
   "outputs": [],
   "source": [
    "vocab_set = set()\n",
    "\n",
    "dataset_paths = ['../data/data_bal-20000.csv',\n",
    "                 '../data/malicious_phish.csv',\n",
    "                 '../data/malicious_phish_filtered.csv', \n",
    "                 '../data/phishing_site_urls.csv',\n",
    "                 '../data/Phishing_URL_Dataset.csv'\n",
    "                 ]\n"
   ]
  },
  {
   "cell_type": "code",
   "execution_count": 7,
   "id": "04aa1746",
   "metadata": {},
   "outputs": [],
   "source": [
    "for path in dataset_paths:\n",
    "    df = pd.read_csv(path)\n",
    "    urls = df['URL'].astype(str)\n",
    "    vocab_set.update(''.join(urls))"
   ]
  },
  {
   "cell_type": "code",
   "execution_count": 8,
   "id": "5c3934bd",
   "metadata": {},
   "outputs": [
    {
     "name": "stdout",
     "output_type": "stream",
     "text": [
      "Character Vocabulary: ['\\x01', '\\x02', '\\x03', '\\x04', '\\x05', '\\x06', '\\x07', '\\x08', '\\t', '\\n', '\\x0b', '\\x0c', '\\r', '\\x0e', '\\x0f', '\\x10', '\\x11', '\\x12', '\\x13', '\\x14', '\\x15', '\\x16', '\\x17', '\\x18', '\\x19', '\\x1a', '\\x1b', '\\x1c', '\\x1d', '\\x1e', '\\x1f', ' ', '!', '\"', '#', '$', '%', '&', \"'\", '(', ')', '*', '+', ',', '-', '.', '/', '0', '1', '2', '3', '4', '5', '6', '7', '8', '9', ':', ';', '<', '=', '>', '?', '@', 'A', 'B', 'C', 'D', 'E', 'F', 'G', 'H', 'I', 'J', 'K', 'L', 'M', 'N', 'O', 'P', 'Q', 'R', 'S', 'T', 'U', 'V', 'W', 'X', 'Y', 'Z', '[', '\\\\', ']', '^', '_', '`', 'a', 'b', 'c', 'd', 'e', 'f', 'g', 'h', 'i', 'j', 'k', 'l', 'm', 'n', 'o', 'p', 'q', 'r', 's', 't', 'u', 'v', 'w', 'x', 'y', 'z', '{', '|', '}', '~', '\\x7f', '\\x80', '\\x81', '\\x82', '\\x83', '\\x84', '\\x85', '\\x86', '\\x87', '\\x88', '\\x89', '\\x8a', '\\x8b', '\\x8c', '\\x8d', '\\x8e', '\\x8f', '\\x90', '\\x91', '\\x92', '\\x93', '\\x94', '\\x95', '\\x96', '\\x97', '\\x98', '\\x99', '\\x9a', '\\x9b', '\\x9c', '\\x9d', '\\x9e', '\\x9f', '\\xa0', '¡', '¢', '£', '¤', '¥', '¦', '§', '¨', '©', 'ª', '«', '¬', '\\xad', '®', '¯', '°', '±', '²', '³', '´', 'µ', '¶', '·', '¸', '¹', 'º', '»', '¼', '½', '¾', '¿', 'À', 'Á', 'Â', 'Ã', 'Ä', 'Å', 'Æ', 'Ç', 'È', 'É', 'Ê', 'Ë', 'Ì', 'Í', 'Î', 'Ï', 'Ð', 'Ñ', 'Ò', 'Ó', 'Ô', 'Õ', 'Ö', '×', 'Ø', 'Ù', 'Ú', 'Û', 'Ü', 'Ý', 'Þ', 'ß', 'à', 'á', 'â', 'ã', 'ä', 'å', 'æ', 'ç', 'è', 'é', 'ê', 'ë', 'ì', 'í', 'î', 'ï', 'ð', 'ñ', 'ò', 'ó', 'ô', 'õ', 'ö', '÷', 'ø', 'ù', 'ú', 'û', 'ü', 'ý', 'þ', 'ÿ', 'Š', 'š', 'ž', 'ƒ', 'ˆ', 'ב', 'ג', 'ה', 'ו', 'ח', 'ט', 'י', 'כ', 'ל', 'ן', 'צ', 'ק', 'ר', 'ש', 'ת', 'ก', 'ข', 'ฃ', 'ค', 'ฅ', 'ง', 'จ', 'ฉ', 'ช', 'ซ', 'ฌ', 'ญ', 'ฎ', 'ฏ', 'ฐ', 'ฑ', 'ฒ', 'ณ', 'ด', 'ต', 'ถ', 'ท', 'ธ', 'น', 'บ', 'ป', 'ผ', 'ฝ', 'พ', 'ฟ', 'ย', 'ร', 'ฤ', 'ล', 'ฦ', 'ว', 'ศ', 'ส', 'ห', 'ฬ', 'อ', 'ฮ', 'ะ', 'ั', 'า', 'ำ', 'ิ', 'ี', 'ึ', 'ื', 'ุ', 'ู', 'ฺ', 'เ', 'ไ', 'ๅ', '่', '๓', '\\u200a', '–', '—', '’', '‚', '“', '”', '•', '…', '‰', '€', '™', '傅', '品', '成', '拠', '\\uf1dc', '�']\n"
     ]
    }
   ],
   "source": [
    "vocab = sorted(vocab_set)\n",
    "\n",
    "print(f\"Character Vocabulary: {vocab}\")"
   ]
  },
  {
   "cell_type": "code",
   "execution_count": 16,
   "id": "96ae18ce",
   "metadata": {},
   "outputs": [],
   "source": [
    "import re\n",
    "from sklearn.model_selection import train_test_split\n"
   ]
  },
  {
   "cell_type": "code",
   "execution_count": 17,
   "id": "52256b4c",
   "metadata": {},
   "outputs": [],
   "source": [
    "df = pd.read_csv('../data/data_bal-20000_1.csv')"
   ]
  },
  {
   "cell_type": "code",
   "execution_count": 18,
   "id": "5e78851d",
   "metadata": {},
   "outputs": [],
   "source": [
    "def clean_url(url):\n",
    "    url = url.lower()\n",
    "    url = re.sub(r'https?://', '', url)\n",
    "    url = re.sub(r'www\\.', '', url)\n",
    "    return url.strip()"
   ]
  },
  {
   "cell_type": "code",
   "execution_count": 19,
   "id": "e0114d83",
   "metadata": {},
   "outputs": [],
   "source": [
    "df = df[['URL', 'label']]\n",
    "df['clean_url'] = df['URL'].apply(clean_url)"
   ]
  },
  {
   "cell_type": "code",
   "execution_count": 15,
   "id": "f3463f1b",
   "metadata": {},
   "outputs": [
    {
     "data": {
      "text/plain": [
       "(20000, 3)"
      ]
     },
     "execution_count": 15,
     "metadata": {},
     "output_type": "execute_result"
    }
   ],
   "source": [
    "df.shape"
   ]
  },
  {
   "cell_type": "code",
   "execution_count": 20,
   "id": "fe27d30e",
   "metadata": {},
   "outputs": [],
   "source": [
    "def build_vocab(urls):\n",
    "    all_text = ''.join(urls)\n",
    "    vocab = sorted(set(all_text))\n",
    "    char2idx = {ch: idx + 1 for idx, ch in enumerate(vocab)}\n",
    "    idx2char = {idx: ch for ch, idx in char2idx.items()}\n",
    "    return char2idx, idx2char\n",
    "\n",
    "def encode_url(url, char2idx, maxlen=200):\n",
    "    encoded = [char2idx.get(c, 0) for c in url[:maxlen]]\n",
    "    if len(encoded) < maxlen:\n",
    "        encoded += [0] * (maxlen - len(encoded))\n",
    "    return encoded"
   ]
  },
  {
   "cell_type": "code",
   "execution_count": 23,
   "id": "0e343e6c",
   "metadata": {},
   "outputs": [],
   "source": [
    "maxlen = 200\n",
    "test_size = 0.2\n",
    "\n",
    "char2idx, idx2char = build_vocab(df['clean_url'].tolist())\n",
    "\n",
    "df['encoded_url'] = df['clean_url'].apply(lambda x: encode_url(x, char2idx, maxlen))\n",
    "\n",
    "X_train, X_val, y_train, y_val = train_test_split(\n",
    "    df['encoded_url'].tolist(), df['label'].tolist(), test_size=test_size, random_state=42\n",
    ")"
   ]
  },
  {
   "cell_type": "code",
   "execution_count": 24,
   "id": "f7a1b1ad",
   "metadata": {},
   "outputs": [
    {
     "data": {
      "text/plain": [
       "16000"
      ]
     },
     "execution_count": 24,
     "metadata": {},
     "output_type": "execute_result"
    }
   ],
   "source": [
    "len(X_train)"
   ]
  },
  {
   "cell_type": "code",
   "execution_count": 26,
   "id": "694ca362",
   "metadata": {},
   "outputs": [],
   "source": [
    "import torch.nn as nn\n",
    "\n",
    "class PhishModel(nn.Module):\n",
    "    def __init__(self, vocab_size, embed_dim=256, num_classes=2, maxlen=200, lstm_hidden=256, lstm_layers=2):\n",
    "        super(PhishModel, self).__init__()\n",
    "        \n",
    "        self.embedding = nn.Embedding(vocab_size + 1, embed_dim, padding_idx=0)\n",
    "\n",
    "        self.conv_layers = nn.Sequential(\n",
    "            nn.Conv1d(in_channels=embed_dim, out_channels=256, kernel_size=5, padding=2),\n",
    "            nn.ReLU(),\n",
    "            nn.MaxPool1d(kernel_size=2),\n",
    "\n",
    "            nn.Conv1d(256, 256, kernel_size=3, padding=1),\n",
    "            nn.ReLU(),\n",
    "            nn.MaxPool1d(kernel_size=2)\n",
    "        )\n",
    "\n",
    "        self.lstm = nn.LSTM(input_size=256, hidden_size=lstm_hidden, num_layers=lstm_layers, batch_first=True, bidirectional=True)\n",
    "        \n",
    "        self.fc_layers = nn.Sequential(\n",
    "            nn.Linear(2 * lstm_hidden, 512),\n",
    "            nn.ReLU(),\n",
    "            nn.Dropout(0.4),\n",
    "            nn.Linear(512, num_classes)\n",
    "        )\n",
    "        \n",
    "    def forward(self, x):\n",
    "        print(\"=\" * 50)\n",
    "        print(\"RAW INPUT TENSOR (first 1 sample):\\n\", x[0])  # Show first sample in batch\n",
    "        print(\"Input Shape:\", x.shape)  # (batch, seq_len)\n",
    "        \n",
    "        x = self.embedding(x)\n",
    "        print(\"After Embedding (batch, seq_len, embed_dim):\", x.shape)\n",
    "\n",
    "        x = x.permute(0, 2, 1)\n",
    "        print(\"After Permute for Conv1D (batch, embed_dim, seq_len):\", x.shape)\n",
    "\n",
    "        x = self.conv_layers(x)\n",
    "        print(\"After Conv Layers:\", x.shape)\n",
    "\n",
    "        x = x.permute(0, 2, 1)\n",
    "        print(\"After Permute back (batch, seq_len, channels):\", x.shape)\n",
    "\n",
    "        lstm_out, _ = self.lstm(x)\n",
    "        print(\"LSTM Output (batch, seq_len, hidden_size*2 if bidirectional):\", lstm_out.shape)\n",
    "\n",
    "        x = lstm_out[:, -1, :]  # take last time step\n",
    "        print(\"LSTM Final Timestep Output (batch, hidden_dim):\", x.shape)\n",
    "\n",
    "        x = self.fc_layers(x)\n",
    "        print(\"Final Output (batch, num_classes):\", x.shape)\n",
    "        print(\"=\" * 50)\n",
    "\n",
    "        return x\n"
   ]
  },
  {
   "cell_type": "code",
   "execution_count": null,
   "id": "4bd7f6e1",
   "metadata": {},
   "outputs": [],
   "source": [
    "import torch"
   ]
  },
  {
   "cell_type": "code",
   "execution_count": 27,
   "id": "d844423b",
   "metadata": {},
   "outputs": [],
   "source": [
    "\n",
    "model = PhishModel(vocab_size=300)"
   ]
  },
  {
   "cell_type": "code",
   "execution_count": 28,
   "id": "74829f8e",
   "metadata": {},
   "outputs": [],
   "source": [
    "dummy_input = torch.randint(0, 200, (32, 200))"
   ]
  },
  {
   "cell_type": "code",
   "execution_count": 29,
   "id": "ce6963a6",
   "metadata": {},
   "outputs": [
    {
     "name": "stdout",
     "output_type": "stream",
     "text": [
      "==================================================\n",
      "RAW INPUT TENSOR (first 1 sample):\n",
      " tensor([178,  31,  40,   5, 176, 124, 141,  71, 159, 177, 176, 106,  65,  42,\n",
      "        150,  91,  50,  16,  17, 120,  14, 160,  78, 146, 187,  81,  37, 137,\n",
      "         58,  15,  14,  54, 130,   7,  68,  81, 179, 176,  58, 176,  22, 141,\n",
      "        131, 140, 115,  86, 152, 193, 114, 112, 113,  68,  82,  20,  72,  10,\n",
      "         79,  78, 129, 182,  39, 143, 123,  11,  68,  27, 109, 155,  48,  47,\n",
      "        172,  96, 141,  51,   5,  80,  26, 160,  39,  78, 133,  92, 170, 132,\n",
      "         40,  33,  85,  26, 120, 152,  80,   8, 142,  93, 171,  98, 146,  35,\n",
      "         59, 144,  43, 154, 185,  39, 128, 135, 157,  35,  43,  52,   9, 118,\n",
      "        198,  73,  84,  20, 100, 152,  24,  69, 194,  99,  92,  70, 127,  73,\n",
      "        108,  96, 155,  32,  56, 132,  83,   8,  56, 198,  70, 172,  49,  32,\n",
      "         37,  16, 162, 132,  53,  98,  35, 148, 196,  25, 104,  66, 101, 136,\n",
      "         18, 123, 135, 171,  84,  41, 181, 140, 145, 188, 166,  80,  34, 140,\n",
      "        194, 120, 148,  18, 151, 189,  71, 199,  20, 173,  54,  27,  15,  22,\n",
      "        117, 149,  99,   2,  44,  23,  30,  54, 139, 182,  21, 138,  99, 149,\n",
      "         75,  99,  97,   6])\n",
      "Input Shape: torch.Size([32, 200])\n",
      "After Embedding (batch, seq_len, embed_dim): torch.Size([32, 200, 256])\n",
      "After Permute for Conv1D (batch, embed_dim, seq_len): torch.Size([32, 256, 200])\n",
      "After Conv Layers: torch.Size([32, 256, 50])\n",
      "After Permute back (batch, seq_len, channels): torch.Size([32, 50, 256])\n",
      "LSTM Output (batch, seq_len, hidden_size*2 if bidirectional): torch.Size([32, 50, 512])\n",
      "LSTM Final Timestep Output (batch, hidden_dim): torch.Size([32, 512])\n",
      "Final Output (batch, num_classes): torch.Size([32, 2])\n",
      "==================================================\n"
     ]
    }
   ],
   "source": [
    "output = model(dummy_input)"
   ]
  },
  {
   "cell_type": "code",
   "execution_count": null,
   "id": "58926579",
   "metadata": {},
   "outputs": [],
   "source": []
  }
 ],
 "metadata": {
  "kernelspec": {
   "display_name": "Python 3",
   "language": "python",
   "name": "python3"
  },
  "language_info": {
   "codemirror_mode": {
    "name": "ipython",
    "version": 3
   },
   "file_extension": ".py",
   "mimetype": "text/x-python",
   "name": "python",
   "nbconvert_exporter": "python",
   "pygments_lexer": "ipython3",
   "version": "3.10.11"
  }
 },
 "nbformat": 4,
 "nbformat_minor": 5
}
